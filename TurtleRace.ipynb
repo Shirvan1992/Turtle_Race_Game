{
 "cells": [
  {
   "cell_type": "markdown",
   "metadata": {},
   "source": [
    "# Turtle Race"
   ]
  },
  {
   "cell_type": "code",
   "execution_count": 1,
   "metadata": {},
   "outputs": [
    {
     "name": "stdout",
     "output_type": "stream",
     "text": [
      "You lost the race. The orange is the winner turtle.\n"
     ]
    }
   ],
   "source": [
    "from turtle import Turtle, Screen\n",
    "import random \n",
    "\n",
    "screen = Screen()\n",
    "screen.setup(width = 500, height = 400)\n",
    "user_bet = screen.textinput(title = \"Make your bet\", prompt = \"Choose a turtle to race. Enter a color: \")\n",
    "colors = [\"red\", \"orange\", \"yellow\", \"green\", \"blue\", \"purple\"]\n",
    "all_turtles = []\n",
    "\n",
    "#coordinates for the position of turtles\n",
    "x = -230\n",
    "y = -100\n",
    "\n",
    "screen.clearscreen()\n",
    "\n",
    "for num in range(6):\n",
    "    new_turtle = Turtle(shape = \"turtle\")\n",
    "    new_turtle.color(colors[num])\n",
    "    new_turtle.penup()\n",
    "    new_turtle.goto(x,y)\n",
    "    y = y + 30\n",
    "    all_turtles.append(new_turtle)\n",
    "\n",
    "    \n",
    "# variable to start or end the race(loop)\n",
    "is_race_on = False\n",
    "\n",
    "\n",
    "# it checks whether user enters a bet\n",
    "if user_bet:\n",
    "    is_race_on = True\n",
    "    \n",
    "while is_race_on:\n",
    "    \n",
    "    for turtle in all_turtles:\n",
    "        if turtle.xcor() > 230:\n",
    "            is_race_on = False\n",
    "            winning_color = turtle.pencolor()\n",
    "            if winning_color == user_bet:\n",
    "                print(f\"You won the race. The {winning_color} is the winner turtle. Congrats!!\")\n",
    "            else:\n",
    "                print(f\"You lost the race. The {winning_color} is the winner turtle.\")\n",
    "\n",
    "                \n",
    "        random_distance = random.randint(0,10)\n",
    "        turtle.forward(random_distance)\n",
    "\n",
    "\n",
    "\n",
    "\n",
    "screen.exitonclick()"
   ]
  },
  {
   "cell_type": "markdown",
   "metadata": {},
   "source": [
    "# "
   ]
  },
  {
   "cell_type": "markdown",
   "metadata": {},
   "source": [
    "### --------------------------END OF THE GAME--------------------------------"
   ]
  }
 ],
 "metadata": {
  "kernelspec": {
   "display_name": "Python 3",
   "language": "python",
   "name": "python3"
  },
  "language_info": {
   "codemirror_mode": {
    "name": "ipython",
    "version": 3
   },
   "file_extension": ".py",
   "mimetype": "text/x-python",
   "name": "python",
   "nbconvert_exporter": "python",
   "pygments_lexer": "ipython3",
   "version": "3.8.5"
  }
 },
 "nbformat": 4,
 "nbformat_minor": 4
}
